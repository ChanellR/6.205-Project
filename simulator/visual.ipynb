{
 "cells": [
  {
   "cell_type": "code",
   "execution_count": null,
   "metadata": {},
   "outputs": [],
   "source": [
    "import matplotlib.pyplot as plt\n",
    "import numpy as np\n",
    "\n",
    "from math import pi"
   ]
  },
  {
   "cell_type": "code",
   "execution_count": null,
   "metadata": {},
   "outputs": [],
   "source": [
    "# def smoothing_kernel(r, h):\n",
    "#     volume = pi * (h**8) / 4\n",
    "#     value = max(0, h**2 - r**2)\n",
    "#     return value**3 / volume\n",
    "\n",
    "# def smoothing_kernel_gradient(r, h):\n",
    "#     if r >= h:\n",
    "#         return 0\n",
    "#     f = h**2 - r**2\n",
    "#     scale = -24 / (pi * h**8)\n",
    "#     return scale * r * (f**2)\n",
    "\n",
    "def smoothing_kernel(r, h):\n",
    "    if r >= h:\n",
    "        return 0\n",
    "    volume = pi * (h**4) / 6\n",
    "    return ((r - h)**2) / volume\n",
    "\n",
    "def smoothing_kernel_gradient(r, h):\n",
    "    if r >= h:\n",
    "        return 0\n",
    "    scale = 12 / (pi * h**4)\n",
    "    return scale * (h - r)"
   ]
  },
  {
   "cell_type": "code",
   "execution_count": null,
   "metadata": {},
   "outputs": [],
   "source": [
    "# Define the range of r and a constant h\n",
    "h = 100\n",
    "r_values = np.linspace(-2 * h, 2 * h, 400)\n",
    "\n",
    "# Compute the values of the smoothing functions\n",
    "kernel_values = [smoothing_kernel(abs(r), h) for r in r_values]\n",
    "gradient_values = [smoothing_kernel_gradient(abs(r), h) for r in r_values]\n",
    "# Plot the smoothing kernel\n",
    "plt.figure(figsize=(12, 6))\n",
    "\n",
    "plt.subplot(1, 2, 1)\n",
    "plt.plot(r_values, kernel_values, label='Smoothing Kernel')\n",
    "plt.xlabel('r')\n",
    "plt.ylabel('Value')\n",
    "plt.title('Smoothing Kernel')\n",
    "plt.legend()\n",
    "\n",
    "# Plot the smoothing kernel gradient\n",
    "plt.subplot(1, 2, 2)\n",
    "plt.plot(r_values, gradient_values, label='Smoothing Kernel Gradient')\n",
    "plt.xlabel('r')\n",
    "plt.ylabel('Value')\n",
    "plt.title('Smoothing Kernel Gradient')\n",
    "plt.legend()\n",
    "\n",
    "# Show the plots\n",
    "plt.tight_layout()\n",
    "plt.show()"
   ]
  }
 ],
 "metadata": {
  "kernelspec": {
   "display_name": "Python 3",
   "language": "python",
   "name": "python3"
  },
  "language_info": {
   "codemirror_mode": {
    "name": "ipython",
    "version": 3
   },
   "file_extension": ".py",
   "mimetype": "text/x-python",
   "name": "python",
   "nbconvert_exporter": "python",
   "pygments_lexer": "ipython3",
   "version": "3.10.12"
  }
 },
 "nbformat": 4,
 "nbformat_minor": 2
}
